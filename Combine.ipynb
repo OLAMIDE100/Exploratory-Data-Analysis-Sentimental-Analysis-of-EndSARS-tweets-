{
 "cells": [
  {
   "cell_type": "code",
   "execution_count": 1,
   "metadata": {},
   "outputs": [],
   "source": [
    "import pandas as pd\n",
    "import numpy as np  "
   ]
  },
  {
   "cell_type": "code",
   "execution_count": 7,
   "metadata": {},
   "outputs": [],
   "source": [
    "endsars1 = pd.read_excel(r'C:\\Users\\ADESOBA OLAMIDE\\Desktop\\WEEK1 TASKS\\text.xlsx')\n",
    "endsars2 = pd.read_excel(r'C:\\Users\\ADESOBA OLAMIDE\\Desktop\\WEEK1 TASKS\\text1.xlsx')\n",
    "endsars3 = pd.read_excel(r'C:\\Users\\ADESOBA OLAMIDE\\Desktop\\WEEK1 TASKS\\text2.xlsx')\n",
    "endsars4 = pd.read_excel(r'C:\\Users\\ADESOBA OLAMIDE\\Desktop\\WEEK1 TASKS\\text3.xlsx')\n",
    "endsars5 = pd.read_excel(r'C:\\Users\\ADESOBA OLAMIDE\\Desktop\\WEEK1 TASKS\\text4.xlsx')"
   ]
  },
  {
   "cell_type": "code",
   "execution_count": 8,
   "metadata": {},
   "outputs": [
    {
     "data": {
      "text/plain": [
       "(131930, 9)"
      ]
     },
     "execution_count": 8,
     "metadata": {},
     "output_type": "execute_result"
    }
   ],
   "source": [
    "endsar = pd.concat([endsars1,endsars2,endsars3,endsars4,endsars5])\n",
    "\n",
    "endsar.shape"
   ]
  },
  {
   "cell_type": "code",
   "execution_count": 9,
   "metadata": {},
   "outputs": [],
   "source": [
    "with pd.ExcelWriter(r'C:\\Users\\ADESOBA OLAMIDE\\Desktop\\endsars.xlsx') as writer:\n",
    "    endsar.to_excel(writer, sheet_name = 'merged', index = False)"
   ]
  },
  {
   "cell_type": "code",
   "execution_count": null,
   "metadata": {},
   "outputs": [],
   "source": []
  }
 ],
 "metadata": {
  "kernelspec": {
   "display_name": "Python 3",
   "language": "python",
   "name": "python3"
  },
  "language_info": {
   "codemirror_mode": {
    "name": "ipython",
    "version": 3
   },
   "file_extension": ".py",
   "mimetype": "text/x-python",
   "name": "python",
   "nbconvert_exporter": "python",
   "pygments_lexer": "ipython3",
   "version": "3.8.5"
  }
 },
 "nbformat": 4,
 "nbformat_minor": 4
}
